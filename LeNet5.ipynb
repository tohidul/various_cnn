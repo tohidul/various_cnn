{
 "cells": [
  {
   "cell_type": "code",
   "execution_count": 1,
   "metadata": {
    "collapsed": true
   },
   "outputs": [],
   "source": [
    "import os\n",
    "import zipfile\n",
    "import matplotlib.pyplot as plt\n",
    "import tensorflow as tf\n",
    "from tensorflow.keras import layers\n",
    "from tensorflow.keras import Model\n",
    "from tensorflow.keras.optimizers import RMSprop\n",
    "from keras.optimizers import SGD\n",
    "from keras.optimizers import Adam\n",
    "from tensorflow.keras.preprocessing.image import ImageDataGenerator\n",
    "import random\n",
    "from PIL import Image\n",
    "import numpy as np\n",
    "import os\n",
    "from tensorflow.keras.preprocessing.image import img_to_array, load_img"
   ]
  },
  {
   "cell_type": "code",
   "execution_count": 3,
   "outputs": [],
   "source": [
    "def train_val_generators(TRAINING_DIR, VALIDATION_DIR):\n",
    "  train_datagen = ImageDataGenerator(rescale=1./255,\n",
    "                                     rotation_range=40,\n",
    "                                     width_shift_range=0.2,\n",
    "                                     height_shift_range=0.2,\n",
    "                                     shear_range=0.2,\n",
    "                                     zoom_range=0.2,\n",
    "                                     horizontal_flip=True,\n",
    "                                     fill_mode='nearest')\n",
    "\n",
    "  train_generator = train_datagen.flow_from_directory(directory=TRAINING_DIR,\n",
    "                                                      batch_size=32,\n",
    "                                                      class_mode='categorical',\n",
    "                                                      target_size=(32, 32))\n",
    "\n",
    "  validation_datagen = ImageDataGenerator(rescale=1./255)\n",
    "\n",
    "  validation_generator = validation_datagen.flow_from_directory(directory=VALIDATION_DIR,\n",
    "                                                                batch_size=32,\n",
    "                                                                class_mode='categorical',\n",
    "                                                                target_size=(32, 32))\n",
    "\n",
    "  return train_generator, validation_generator"
   ],
   "metadata": {
    "collapsed": false,
    "pycharm": {
     "name": "#%%\n"
    }
   }
  },
  {
   "cell_type": "code",
   "execution_count": 4,
   "outputs": [],
   "source": [
    "train_dir = r\"E:\\projects\\personalProjects\\CSE525\\AlexNet_Implementation\\data\\MNIST\\train\"\n",
    "validation_dir = r\"E:\\projects\\personalProjects\\CSE525\\AlexNet_Implementation\\data\\MNIST\\test\""
   ],
   "metadata": {
    "collapsed": false,
    "pycharm": {
     "name": "#%%\n"
    }
   }
  },
  {
   "cell_type": "code",
   "execution_count": 5,
   "outputs": [
    {
     "name": "stdout",
     "output_type": "stream",
     "text": [
      "Found 60000 images belonging to 10 classes.\n",
      "Found 10000 images belonging to 10 classes.\n"
     ]
    }
   ],
   "source": [
    "train_generator, validation_generator = train_val_generators(train_dir, validation_dir)"
   ],
   "metadata": {
    "collapsed": false,
    "pycharm": {
     "name": "#%%\n"
    }
   }
  },
  {
   "cell_type": "code",
   "execution_count": 6,
   "outputs": [],
   "source": [
    "def create_model():\n",
    "  model = tf.keras.models.Sequential([\n",
    "      tf.keras.layers.Conv2D(6, (3,3), activation='relu', input_shape=(32,32,1)),\n",
    "      tf.keras.layers.AveragePooling2D(),\n",
    "\n",
    "      tf.keras.layers.Conv2D(16, (3,3), activation='relu'),\n",
    "      tf.keras.layers.AveragePooling2D(),\n",
    "\n",
    "\n",
    "      tf.keras.layers.Flatten(),\n",
    "      tf.keras.layers.Dense(120, activation='relu'),\n",
    "      tf.keras.layers.Dense(84, activation='relu'),\n",
    "      tf.keras.layers.Dense(10, activation='softmax'),\n",
    "  ])\n",
    "\n",
    "\n",
    "  model.compile(optimizer=Adam(learning_rate=0.001),\n",
    "                loss='categorical_crossentropy',\n",
    "                metrics=['accuracy', 'AUC', 'FalseNegatives', 'FalsePositives', 'Precision', 'Recall', 'TrueNegatives','TruePositives'])\n",
    "\n",
    "  return model"
   ],
   "metadata": {
    "collapsed": false,
    "pycharm": {
     "name": "#%%\n"
    }
   }
  },
  {
   "cell_type": "code",
   "execution_count": 7,
   "outputs": [
    {
     "name": "stdout",
     "output_type": "stream",
     "text": [
      "Epoch 1/15\n",
      "1875/1875 [==============================] - 500s 261ms/step - loss: 1.2406 - accuracy: 0.5731 - auc: 0.9101 - false_negatives: 36070.0000 - false_positives: 5933.0000 - precision: 0.8013 - recall: 0.3988 - true_negatives: 534067.0000 - true_positives: 23930.0000 - val_loss: 0.4706 - val_accuracy: 0.8453 - val_auc: 0.9869 - val_false_negatives: 2010.0000 - val_false_positives: 984.0000 - val_precision: 0.8903 - val_recall: 0.7990 - val_true_negatives: 89016.0000 - val_true_positives: 7990.0000\n",
      "Epoch 2/15\n",
      "1875/1875 [==============================] - 76s 41ms/step - loss: 0.7185 - accuracy: 0.7625 - auc: 0.9691 - false_negatives: 19056.0000 - false_positives: 7691.0000 - precision: 0.8419 - recall: 0.6824 - true_negatives: 532309.0000 - true_positives: 40944.0000 - val_loss: 0.3909 - val_accuracy: 0.8732 - val_auc: 0.9893 - val_false_negatives: 1478.0000 - val_false_positives: 965.0000 - val_precision: 0.8983 - val_recall: 0.8522 - val_true_negatives: 89035.0000 - val_true_positives: 8522.0000\n",
      "Epoch 3/15\n",
      "1875/1875 [==============================] - 78s 42ms/step - loss: 0.5857 - accuracy: 0.8092 - auc: 0.9784 - false_negatives: 14740.0000 - false_positives: 7093.0000 - precision: 0.8645 - recall: 0.7543 - true_negatives: 532907.0000 - true_positives: 45260.0000 - val_loss: 0.2694 - val_accuracy: 0.9098 - val_auc: 0.9946 - val_false_negatives: 1074.0000 - val_false_positives: 658.0000 - val_precision: 0.9313 - val_recall: 0.8926 - val_true_negatives: 89342.0000 - val_true_positives: 8926.0000\n",
      "Epoch 4/15\n",
      "1875/1875 [==============================] - 74s 39ms/step - loss: 0.5126 - accuracy: 0.8324 - auc: 0.9829 - false_negatives: 12627.0000 - false_positives: 6382.0000 - precision: 0.8813 - recall: 0.7896 - true_negatives: 533618.0000 - true_positives: 47373.0000 - val_loss: 0.2225 - val_accuracy: 0.9316 - val_auc: 0.9957 - val_false_negatives: 809.0000 - val_false_positives: 493.0000 - val_precision: 0.9491 - val_recall: 0.9191 - val_true_negatives: 89507.0000 - val_true_positives: 9191.0000\n",
      "Epoch 5/15\n",
      "1875/1875 [==============================] - 72s 39ms/step - loss: 0.4608 - accuracy: 0.8496 - auc: 0.9858 - false_negatives: 11165.0000 - false_positives: 6031.0000 - precision: 0.8901 - recall: 0.8139 - true_negatives: 533969.0000 - true_positives: 48835.0000 - val_loss: 0.2168 - val_accuracy: 0.9315 - val_auc: 0.9955 - val_false_negatives: 787.0000 - val_false_positives: 538.0000 - val_precision: 0.9448 - val_recall: 0.9213 - val_true_negatives: 89462.0000 - val_true_positives: 9213.0000\n",
      "Epoch 6/15\n",
      "1875/1875 [==============================] - 86s 46ms/step - loss: 0.4227 - accuracy: 0.8625 - auc: 0.9878 - false_negatives: 10122.0000 - false_positives: 5637.0000 - precision: 0.8985 - recall: 0.8313 - true_negatives: 534363.0000 - true_positives: 49878.0000 - val_loss: 0.2107 - val_accuracy: 0.9318 - val_auc: 0.9962 - val_false_negatives: 802.0000 - val_false_positives: 536.0000 - val_precision: 0.9449 - val_recall: 0.9198 - val_true_negatives: 89464.0000 - val_true_positives: 9198.0000\n",
      "Epoch 7/15\n",
      "1875/1875 [==============================] - 84s 45ms/step - loss: 0.3942 - accuracy: 0.8727 - auc: 0.9887 - false_negatives: 9256.0000 - false_positives: 5277.0000 - precision: 0.9058 - recall: 0.8457 - true_negatives: 534723.0000 - true_positives: 50744.0000 - val_loss: 0.1736 - val_accuracy: 0.9431 - val_auc: 0.9972 - val_false_negatives: 665.0000 - val_false_positives: 443.0000 - val_precision: 0.9547 - val_recall: 0.9335 - val_true_negatives: 89557.0000 - val_true_positives: 9335.0000\n",
      "Epoch 8/15\n",
      "1875/1875 [==============================] - 83s 44ms/step - loss: 0.3710 - accuracy: 0.8802 - auc: 0.9902 - false_negatives: 8753.0000 - false_positives: 4969.0000 - precision: 0.9116 - recall: 0.8541 - true_negatives: 535031.0000 - true_positives: 51247.0000 - val_loss: 0.1820 - val_accuracy: 0.9428 - val_auc: 0.9966 - val_false_negatives: 658.0000 - val_false_positives: 470.0000 - val_precision: 0.9521 - val_recall: 0.9342 - val_true_negatives: 89530.0000 - val_true_positives: 9342.0000\n",
      "Epoch 9/15\n",
      "1875/1875 [==============================] - 89s 47ms/step - loss: 0.3533 - accuracy: 0.8860 - auc: 0.9909 - false_negatives: 8225.0000 - false_positives: 4827.0000 - precision: 0.9147 - recall: 0.8629 - true_negatives: 535173.0000 - true_positives: 51775.0000 - val_loss: 0.1673 - val_accuracy: 0.9456 - val_auc: 0.9973 - val_false_negatives: 619.0000 - val_false_positives: 455.0000 - val_precision: 0.9537 - val_recall: 0.9381 - val_true_negatives: 89545.0000 - val_true_positives: 9381.0000\n",
      "Epoch 10/15\n",
      "1875/1875 [==============================] - 82s 44ms/step - loss: 0.3368 - accuracy: 0.8911 - auc: 0.9913 - false_negatives: 7805.0000 - false_positives: 4626.0000 - precision: 0.9186 - recall: 0.8699 - true_negatives: 535374.0000 - true_positives: 52195.0000 - val_loss: 0.1604 - val_accuracy: 0.9454 - val_auc: 0.9974 - val_false_negatives: 616.0000 - val_false_positives: 452.0000 - val_precision: 0.9540 - val_recall: 0.9384 - val_true_negatives: 89548.0000 - val_true_positives: 9384.0000\n",
      "Epoch 11/15\n",
      "1875/1875 [==============================] - 75s 40ms/step - loss: 0.3206 - accuracy: 0.8965 - auc: 0.9922 - false_negatives: 7418.0000 - false_positives: 4508.0000 - precision: 0.9210 - recall: 0.8764 - true_negatives: 535492.0000 - true_positives: 52582.0000 - val_loss: 0.1501 - val_accuracy: 0.9511 - val_auc: 0.9976 - val_false_negatives: 559.0000 - val_false_positives: 392.0000 - val_precision: 0.9601 - val_recall: 0.9441 - val_true_negatives: 89608.0000 - val_true_positives: 9441.0000\n",
      "Epoch 12/15\n",
      "1875/1875 [==============================] - 77s 41ms/step - loss: 0.3061 - accuracy: 0.9033 - auc: 0.9927 - false_negatives: 6963.0000 - false_positives: 4211.0000 - precision: 0.9264 - recall: 0.8839 - true_negatives: 535789.0000 - true_positives: 53037.0000 - val_loss: 0.1835 - val_accuracy: 0.9395 - val_auc: 0.9963 - val_false_negatives: 686.0000 - val_false_positives: 514.0000 - val_precision: 0.9477 - val_recall: 0.9314 - val_true_negatives: 89486.0000 - val_true_positives: 9314.0000\n",
      "Epoch 13/15\n",
      "1875/1875 [==============================] - 84s 45ms/step - loss: 0.2957 - accuracy: 0.9043 - auc: 0.9930 - false_negatives: 6786.0000 - false_positives: 4170.0000 - precision: 0.9273 - recall: 0.8869 - true_negatives: 535830.0000 - true_positives: 53214.0000 - val_loss: 0.1327 - val_accuracy: 0.9582 - val_auc: 0.9979 - val_false_negatives: 485.0000 - val_false_positives: 339.0000 - val_precision: 0.9656 - val_recall: 0.9515 - val_true_negatives: 89661.0000 - val_true_positives: 9515.0000\n",
      "Epoch 14/15\n",
      "1875/1875 [==============================] - 81s 43ms/step - loss: 0.2892 - accuracy: 0.9076 - auc: 0.9932 - false_negatives: 6601.0000 - false_positives: 4062.0000 - precision: 0.9293 - recall: 0.8900 - true_negatives: 535938.0000 - true_positives: 53399.0000 - val_loss: 0.1494 - val_accuracy: 0.9514 - val_auc: 0.9978 - val_false_negatives: 554.0000 - val_false_positives: 385.0000 - val_precision: 0.9608 - val_recall: 0.9446 - val_true_negatives: 89615.0000 - val_true_positives: 9446.0000\n",
      "Epoch 15/15\n",
      "1875/1875 [==============================] - 120s 64ms/step - loss: 0.2862 - accuracy: 0.9093 - auc: 0.9932 - false_negatives: 6497.0000 - false_positives: 4062.0000 - precision: 0.9294 - recall: 0.8917 - true_negatives: 535938.0000 - true_positives: 53503.0000 - val_loss: 0.2041 - val_accuracy: 0.9329 - val_auc: 0.9956 - val_false_negatives: 732.0000 - val_false_positives: 559.0000 - val_precision: 0.9431 - val_recall: 0.9268 - val_true_negatives: 89441.0000 - val_true_positives: 9268.0000\n"
     ]
    }
   ],
   "source": [
    "model = create_model()\n",
    "\n",
    "history = model.fit(train_generator,\n",
    "                    epochs=15,\n",
    "                    verbose=1,\n",
    "                    validation_data=validation_generator)"
   ],
   "metadata": {
    "collapsed": false,
    "pycharm": {
     "name": "#%%\n"
    }
   }
  },
  {
   "cell_type": "code",
   "execution_count": 8,
   "outputs": [],
   "source": [
    "import time"
   ],
   "metadata": {
    "collapsed": false,
    "pycharm": {
     "name": "#%%\n"
    }
   }
  },
  {
   "cell_type": "code",
   "execution_count": null,
   "outputs": [],
   "source": [],
   "metadata": {
    "collapsed": false,
    "pycharm": {
     "name": "#%%\n"
    }
   }
  },
  {
   "cell_type": "code",
   "execution_count": 10,
   "outputs": [
    {
     "name": "stdout",
     "output_type": "stream",
     "text": [
      "313/313 [==============================] - 18s 55ms/step - loss: 0.2041 - accuracy: 0.9329 - auc: 0.9956 - false_negatives: 732.0000 - false_positives: 559.0000 - precision: 0.9431 - recall: 0.9268 - true_negatives: 89441.0000 - true_positives: 9268.0000\n"
     ]
    }
   ],
   "source": [
    "start = time.time()\n",
    "model.evaluate(validation_generator, verbose=1)\n",
    "stop = time.time()"
   ],
   "metadata": {
    "collapsed": false,
    "pycharm": {
     "name": "#%%\n"
    }
   }
  },
  {
   "cell_type": "code",
   "execution_count": null,
   "outputs": [],
   "source": [],
   "metadata": {
    "collapsed": false,
    "pycharm": {
     "name": "#%%\n"
    }
   }
  },
  {
   "cell_type": "code",
   "execution_count": 12,
   "outputs": [
    {
     "name": "stdout",
     "output_type": "stream",
     "text": [
      "Inferencing time: 0.5833035588264466 minutes\n"
     ]
    }
   ],
   "source": [
    "print(f'Inferencing time: {(stop-start)/60} minutes')"
   ],
   "metadata": {
    "collapsed": false,
    "pycharm": {
     "name": "#%%\n"
    }
   }
  },
  {
   "cell_type": "code",
   "execution_count": null,
   "outputs": [],
   "source": [],
   "metadata": {
    "collapsed": false,
    "pycharm": {
     "name": "#%%\n"
    }
   }
  }
 ],
 "metadata": {
  "kernelspec": {
   "display_name": "Python 3",
   "language": "python",
   "name": "python3"
  },
  "language_info": {
   "codemirror_mode": {
    "name": "ipython",
    "version": 2
   },
   "file_extension": ".py",
   "mimetype": "text/x-python",
   "name": "python",
   "nbconvert_exporter": "python",
   "pygments_lexer": "ipython2",
   "version": "2.7.6"
  }
 },
 "nbformat": 4,
 "nbformat_minor": 0
}