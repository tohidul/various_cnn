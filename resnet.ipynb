{
 "cells": [
  {
   "cell_type": "code",
   "execution_count": 1,
   "metadata": {
    "collapsed": true
   },
   "outputs": [],
   "source": [
    "import os\n",
    "import zipfile\n",
    "import matplotlib.pyplot as plt\n",
    "import tensorflow as tf\n",
    "from tensorflow.keras import layers\n",
    "from tensorflow.keras import Model\n",
    "from tensorflow.keras.optimizers import RMSprop\n",
    "from keras.optimizers import SGD\n",
    "from keras.optimizers import Adam\n",
    "from tensorflow.keras.preprocessing.image import ImageDataGenerator\n",
    "import random\n",
    "from PIL import Image\n",
    "import numpy as np\n",
    "import os\n",
    "from tensorflow.keras.preprocessing.image import img_to_array, load_img"
   ]
  },
  {
   "cell_type": "code",
   "execution_count": 9,
   "outputs": [],
   "source": [
    "def train_val_generators(TRAINING_DIR, VALIDATION_DIR):\n",
    "  train_datagen = ImageDataGenerator(rescale=1./255,\n",
    "                                     rotation_range=40,\n",
    "                                     width_shift_range=0.2,\n",
    "                                     height_shift_range=0.2,\n",
    "                                     shear_range=0.2,\n",
    "                                     zoom_range=0.2,\n",
    "                                     horizontal_flip=True,\n",
    "                                     fill_mode='nearest')\n",
    "\n",
    "  train_generator = train_datagen.flow_from_directory(directory=TRAINING_DIR,\n",
    "                                                      batch_size=32,\n",
    "                                                      class_mode='categorical',\n",
    "                                                      target_size=(32, 32))\n",
    "\n",
    "  validation_datagen = ImageDataGenerator(rescale=1./255)\n",
    "\n",
    "  validation_generator = validation_datagen.flow_from_directory(directory=VALIDATION_DIR,\n",
    "                                                                batch_size=32,\n",
    "                                                                class_mode='categorical',\n",
    "                                                                target_size=(32, 32))\n",
    "\n",
    "  return train_generator, validation_generator"
   ],
   "metadata": {
    "collapsed": false,
    "pycharm": {
     "name": "#%%\n"
    }
   }
  },
  {
   "cell_type": "code",
   "execution_count": 10,
   "outputs": [],
   "source": [
    "train_dir = r\"E:\\projects\\personalProjects\\CSE525\\AlexNet_Implementation\\data\\MNIST\\train\"\n",
    "validation_dir = r\"E:\\projects\\personalProjects\\CSE525\\AlexNet_Implementation\\data\\MNIST\\test\""
   ],
   "metadata": {
    "collapsed": false,
    "pycharm": {
     "name": "#%%\n"
    }
   }
  },
  {
   "cell_type": "code",
   "execution_count": 11,
   "outputs": [
    {
     "name": "stdout",
     "output_type": "stream",
     "text": [
      "Found 60000 images belonging to 10 classes.\n",
      "Found 10000 images belonging to 10 classes.\n"
     ]
    }
   ],
   "source": [
    "train_generator, validation_generator = train_val_generators(train_dir, validation_dir)"
   ],
   "metadata": {
    "collapsed": false,
    "pycharm": {
     "name": "#%%\n"
    }
   }
  },
  {
   "cell_type": "code",
   "execution_count": 3,
   "outputs": [],
   "source": [
    "def identity_block(x, filter):\n",
    "    # copy tensor to variable called x_skip\n",
    "    x_skip = x\n",
    "    # Layer 1\n",
    "    x = tf.keras.layers.Conv2D(filter, (3,3), padding = 'same')(x)\n",
    "    x = tf.keras.layers.BatchNormalization(axis=3)(x)\n",
    "    x = tf.keras.layers.Activation('relu')(x)\n",
    "    # Layer 2\n",
    "    x = tf.keras.layers.Conv2D(filter, (3,3), padding = 'same')(x)\n",
    "    x = tf.keras.layers.BatchNormalization(axis=3)(x)\n",
    "    # Add Residue\n",
    "    x = tf.keras.layers.Add()([x, x_skip])\n",
    "    x = tf.keras.layers.Activation('relu')(x)\n",
    "    return x"
   ],
   "metadata": {
    "collapsed": false,
    "pycharm": {
     "name": "#%%\n"
    }
   }
  },
  {
   "cell_type": "code",
   "execution_count": null,
   "outputs": [],
   "source": [],
   "metadata": {
    "collapsed": false,
    "pycharm": {
     "name": "#%%\n"
    }
   }
  },
  {
   "cell_type": "code",
   "execution_count": 5,
   "outputs": [],
   "source": [
    "def convolutional_block(x, filter):\n",
    "    # copy tensor to variable called x_skip\n",
    "    x_skip = x\n",
    "    # Layer 1\n",
    "    x = tf.keras.layers.Conv2D(filter, (3,3), padding = 'same', strides = (2,2))(x)\n",
    "    x = tf.keras.layers.BatchNormalization(axis=3)(x)\n",
    "    x = tf.keras.layers.Activation('relu')(x)\n",
    "    # Layer 2\n",
    "    x = tf.keras.layers.Conv2D(filter, (3,3), padding = 'same')(x)\n",
    "    x = tf.keras.layers.BatchNormalization(axis=3)(x)\n",
    "    # Processing Residue with conv(1,1)\n",
    "    x_skip = tf.keras.layers.Conv2D(filter, (1,1), strides = (2,2))(x_skip)\n",
    "    # Add Residue\n",
    "    x = tf.keras.layers.Add()([x, x_skip])\n",
    "    x = tf.keras.layers.Activation('relu')(x)\n",
    "    return x"
   ],
   "metadata": {
    "collapsed": false,
    "pycharm": {
     "name": "#%%\n"
    }
   }
  },
  {
   "cell_type": "code",
   "execution_count": 6,
   "outputs": [],
   "source": [
    "def ResNet34(shape = (32, 32, 3), classes = 10):\n",
    "    # Step 1 (Setup Input Layer)\n",
    "    x_input = tf.keras.layers.Input(shape)\n",
    "    x = tf.keras.layers.ZeroPadding2D((3, 3))(x_input)\n",
    "    # Step 2 (Initial Conv layer along with maxPool)\n",
    "    x = tf.keras.layers.Conv2D(64, kernel_size=7, strides=2, padding='same')(x)\n",
    "    x = tf.keras.layers.BatchNormalization()(x)\n",
    "    x = tf.keras.layers.Activation('relu')(x)\n",
    "    x = tf.keras.layers.MaxPool2D(pool_size=3, strides=2, padding='same')(x)\n",
    "    # Define size of sub-blocks and initial filter size\n",
    "    block_layers = [3, 4, 6, 3]\n",
    "    filter_size = 64\n",
    "    # Step 3 Add the Resnet Blocks\n",
    "    for i in range(4):\n",
    "        if i == 0:\n",
    "            # For sub-block 1 Residual/Convolutional block not needed\n",
    "            for j in range(block_layers[i]):\n",
    "                x = identity_block(x, filter_size)\n",
    "        else:\n",
    "            # One Residual/Convolutional Block followed by Identity blocks\n",
    "            # The filter size will go on increasing by a factor of 2\n",
    "            filter_size = filter_size*2\n",
    "            x = convolutional_block(x, filter_size)\n",
    "            for j in range(block_layers[i] - 1):\n",
    "                x = identity_block(x, filter_size)\n",
    "    # Step 4 End Dense Network\n",
    "    x = tf.keras.layers.AveragePooling2D((2,2), padding = 'same')(x)\n",
    "    x = tf.keras.layers.Flatten()(x)\n",
    "    x = tf.keras.layers.Dense(512, activation = 'relu')(x)\n",
    "    x = tf.keras.layers.Dense(classes, activation = 'softmax')(x)\n",
    "    model = tf.keras.models.Model(inputs = x_input, outputs = x, name = \"ResNet34\")\n",
    "    return model"
   ],
   "metadata": {
    "collapsed": false,
    "pycharm": {
     "name": "#%%\n"
    }
   }
  },
  {
   "cell_type": "code",
   "execution_count": 7,
   "outputs": [],
   "source": [
    "model = ResNet34()"
   ],
   "metadata": {
    "collapsed": false,
    "pycharm": {
     "name": "#%%\n"
    }
   }
  },
  {
   "cell_type": "code",
   "execution_count": 8,
   "outputs": [],
   "source": [
    "model.compile(optimizer=Adam(learning_rate=0.001),\n",
    "                loss='categorical_crossentropy',\n",
    "                metrics=['accuracy', 'AUC', 'FalseNegatives', 'FalsePositives', 'Precision', 'Recall', 'TrueNegatives','TruePositives'])"
   ],
   "metadata": {
    "collapsed": false,
    "pycharm": {
     "name": "#%%\n"
    }
   }
  },
  {
   "cell_type": "code",
   "execution_count": 12,
   "outputs": [],
   "source": [
    "import time"
   ],
   "metadata": {
    "collapsed": false,
    "pycharm": {
     "name": "#%%\n"
    }
   }
  },
  {
   "cell_type": "code",
   "execution_count": 13,
   "outputs": [
    {
     "name": "stdout",
     "output_type": "stream",
     "text": [
      "Epoch 1/15\n",
      "1875/1875 [==============================] - 486s 252ms/step - loss: 0.8783 - accuracy: 0.6926 - auc: 0.9549 - false_negatives: 23746.0000 - false_positives: 6812.0000 - precision: 0.8418 - recall: 0.6042 - true_negatives: 533188.0000 - true_positives: 36254.0000 - val_loss: 0.4033 - val_accuracy: 0.8732 - val_auc: 0.9869 - val_false_negatives: 1414.0000 - val_false_positives: 1072.0000 - val_precision: 0.8890 - val_recall: 0.8586 - val_true_negatives: 88928.0000 - val_true_positives: 8586.0000\n",
      "Epoch 2/15\n",
      "1875/1875 [==============================] - 145s 77ms/step - loss: 0.3261 - accuracy: 0.9014 - auc: 0.9911 - false_negatives: 7076.0000 - false_positives: 4365.0000 - precision: 0.9238 - recall: 0.8821 - true_negatives: 535635.0000 - true_positives: 52924.0000 - val_loss: 0.2386 - val_accuracy: 0.9293 - val_auc: 0.9936 - val_false_negatives: 776.0000 - val_false_positives: 586.0000 - val_precision: 0.9403 - val_recall: 0.9224 - val_true_negatives: 89414.0000 - val_true_positives: 9224.0000\n",
      "Epoch 3/15\n",
      "1875/1875 [==============================] - 149s 79ms/step - loss: 0.2504 - accuracy: 0.9261 - auc: 0.9937 - false_negatives: 5242.0000 - false_positives: 3361.0000 - precision: 0.9422 - recall: 0.9126 - true_negatives: 536639.0000 - true_positives: 54758.0000 - val_loss: 0.1514 - val_accuracy: 0.9572 - val_auc: 0.9975 - val_false_negatives: 533.0000 - val_false_positives: 332.0000 - val_precision: 0.9661 - val_recall: 0.9467 - val_true_negatives: 89668.0000 - val_true_positives: 9467.0000\n",
      "Epoch 4/15\n",
      "1875/1875 [==============================] - 610s 325ms/step - loss: 0.2098 - accuracy: 0.9389 - auc: 0.9950 - false_negatives: 4291.0000 - false_positives: 2902.0000 - precision: 0.9505 - recall: 0.9285 - true_negatives: 537098.0000 - true_positives: 55709.0000 - val_loss: 0.1539 - val_accuracy: 0.9526 - val_auc: 0.9970 - val_false_negatives: 532.0000 - val_false_positives: 408.0000 - val_precision: 0.9587 - val_recall: 0.9468 - val_true_negatives: 89592.0000 - val_true_positives: 9468.0000\n",
      "Epoch 5/15\n",
      "1875/1875 [==============================] - 211s 113ms/step - loss: 0.1834 - accuracy: 0.9456 - auc: 0.9960 - false_negatives: 3759.0000 - false_positives: 2577.0000 - precision: 0.9562 - recall: 0.9373 - true_negatives: 537423.0000 - true_positives: 56241.0000 - val_loss: 0.1073 - val_accuracy: 0.9685 - val_auc: 0.9980 - val_false_negatives: 361.0000 - val_false_positives: 256.0000 - val_precision: 0.9741 - val_recall: 0.9639 - val_true_negatives: 89744.0000 - val_true_positives: 9639.0000\n",
      "Epoch 6/15\n",
      "1875/1875 [==============================] - 149s 79ms/step - loss: 0.1672 - accuracy: 0.9498 - auc: 0.9965 - false_negatives: 3433.0000 - false_positives: 2409.0000 - precision: 0.9592 - recall: 0.9428 - true_negatives: 537591.0000 - true_positives: 56567.0000 - val_loss: 0.1480 - val_accuracy: 0.9565 - val_auc: 0.9971 - val_false_negatives: 509.0000 - val_false_positives: 347.0000 - val_precision: 0.9647 - val_recall: 0.9491 - val_true_negatives: 89653.0000 - val_true_positives: 9491.0000\n",
      "Epoch 7/15\n",
      "1875/1875 [==============================] - 144s 77ms/step - loss: 0.1494 - accuracy: 0.9556 - auc: 0.9970 - false_negatives: 3087.0000 - false_positives: 2098.0000 - precision: 0.9644 - recall: 0.9485 - true_negatives: 537902.0000 - true_positives: 56913.0000 - val_loss: 0.1226 - val_accuracy: 0.9615 - val_auc: 0.9979 - val_false_negatives: 427.0000 - val_false_positives: 332.0000 - val_precision: 0.9665 - val_recall: 0.9573 - val_true_negatives: 89668.0000 - val_true_positives: 9573.0000\n",
      "Epoch 8/15\n",
      "1875/1875 [==============================] - 137s 73ms/step - loss: 0.1412 - accuracy: 0.9583 - auc: 0.9971 - false_negatives: 2864.0000 - false_positives: 2012.0000 - precision: 0.9660 - recall: 0.9523 - true_negatives: 537988.0000 - true_positives: 57136.0000 - val_loss: 0.1012 - val_accuracy: 0.9696 - val_auc: 0.9987 - val_false_negatives: 359.0000 - val_false_positives: 242.0000 - val_precision: 0.9755 - val_recall: 0.9641 - val_true_negatives: 89758.0000 - val_true_positives: 9641.0000\n",
      "Epoch 9/15\n",
      "1875/1875 [==============================] - 137s 73ms/step - loss: 0.1339 - accuracy: 0.9606 - auc: 0.9973 - false_negatives: 2708.0000 - false_positives: 1909.0000 - precision: 0.9678 - recall: 0.9549 - true_negatives: 538091.0000 - true_positives: 57292.0000 - val_loss: 0.0766 - val_accuracy: 0.9755 - val_auc: 0.9988 - val_false_negatives: 269.0000 - val_false_positives: 204.0000 - val_precision: 0.9795 - val_recall: 0.9731 - val_true_negatives: 89796.0000 - val_true_positives: 9731.0000\n",
      "Epoch 10/15\n",
      "1875/1875 [==============================] - 136s 72ms/step - loss: 0.1284 - accuracy: 0.9612 - auc: 0.9976 - false_negatives: 2644.0000 - false_positives: 1903.0000 - precision: 0.9679 - recall: 0.9559 - true_negatives: 538097.0000 - true_positives: 57356.0000 - val_loss: 0.0711 - val_accuracy: 0.9784 - val_auc: 0.9992 - val_false_negatives: 247.0000 - val_false_positives: 186.0000 - val_precision: 0.9813 - val_recall: 0.9753 - val_true_negatives: 89814.0000 - val_true_positives: 9753.0000\n",
      "Epoch 11/15\n",
      "1875/1875 [==============================] - 135s 72ms/step - loss: 0.1163 - accuracy: 0.9664 - auc: 0.9977 - false_negatives: 2306.0000 - false_positives: 1678.0000 - precision: 0.9717 - recall: 0.9616 - true_negatives: 538322.0000 - true_positives: 57694.0000 - val_loss: 0.0568 - val_accuracy: 0.9819 - val_auc: 0.9990 - val_false_negatives: 191.0000 - val_false_positives: 156.0000 - val_precision: 0.9843 - val_recall: 0.9809 - val_true_negatives: 89844.0000 - val_true_positives: 9809.0000\n",
      "Epoch 12/15\n",
      "1875/1875 [==============================] - 135s 72ms/step - loss: 0.1166 - accuracy: 0.9653 - auc: 0.9977 - false_negatives: 2354.0000 - false_positives: 1702.0000 - precision: 0.9713 - recall: 0.9608 - true_negatives: 538298.0000 - true_positives: 57646.0000 - val_loss: 0.0840 - val_accuracy: 0.9763 - val_auc: 0.9980 - val_false_negatives: 249.0000 - val_false_positives: 215.0000 - val_precision: 0.9784 - val_recall: 0.9751 - val_true_negatives: 89785.0000 - val_true_positives: 9751.0000\n",
      "Epoch 13/15\n",
      "1875/1875 [==============================] - 137s 73ms/step - loss: 0.1099 - accuracy: 0.9671 - auc: 0.9980 - false_negatives: 2222.0000 - false_positives: 1632.0000 - precision: 0.9725 - recall: 0.9630 - true_negatives: 538368.0000 - true_positives: 57778.0000 - val_loss: 0.0838 - val_accuracy: 0.9772 - val_auc: 0.9983 - val_false_negatives: 254.0000 - val_false_positives: 193.0000 - val_precision: 0.9806 - val_recall: 0.9746 - val_true_negatives: 89807.0000 - val_true_positives: 9746.0000\n",
      "Epoch 14/15\n",
      "1875/1875 [==============================] - 138s 73ms/step - loss: 0.1082 - accuracy: 0.9675 - auc: 0.9979 - false_negatives: 2202.0000 - false_positives: 1605.0000 - precision: 0.9730 - recall: 0.9633 - true_negatives: 538395.0000 - true_positives: 57798.0000 - val_loss: 0.0719 - val_accuracy: 0.9801 - val_auc: 0.9984 - val_false_negatives: 218.0000 - val_false_positives: 184.0000 - val_precision: 0.9815 - val_recall: 0.9782 - val_true_negatives: 89816.0000 - val_true_positives: 9782.0000\n",
      "Epoch 15/15\n",
      "1875/1875 [==============================] - 134s 72ms/step - loss: 0.1035 - accuracy: 0.9688 - auc: 0.9981 - false_negatives: 2114.0000 - false_positives: 1559.0000 - precision: 0.9738 - recall: 0.9648 - true_negatives: 538441.0000 - true_positives: 57886.0000 - val_loss: 0.0657 - val_accuracy: 0.9786 - val_auc: 0.9993 - val_false_negatives: 224.0000 - val_false_positives: 186.0000 - val_precision: 0.9813 - val_recall: 0.9776 - val_true_negatives: 89814.0000 - val_true_positives: 9776.0000\n"
     ]
    }
   ],
   "source": [
    "start = time.time()\n",
    "history = model.fit(train_generator,\n",
    "                    epochs=15,\n",
    "                    verbose=1,\n",
    "                    validation_data=validation_generator)\n",
    "stop = time.time()"
   ],
   "metadata": {
    "collapsed": false,
    "pycharm": {
     "name": "#%%\n"
    }
   }
  },
  {
   "cell_type": "code",
   "execution_count": 14,
   "outputs": [
    {
     "name": "stdout",
     "output_type": "stream",
     "text": [
      "313/313 [==============================] - 9s 30ms/step - loss: 0.0657 - accuracy: 0.9786 - auc: 0.9993 - false_negatives: 224.0000 - false_positives: 186.0000 - precision: 0.9813 - recall: 0.9776 - true_negatives: 89814.0000 - true_positives: 9776.0000\n"
     ]
    }
   ],
   "source": [
    "start = time.time()\n",
    "model.evaluate(validation_generator, verbose=1)\n",
    "stop = time.time()"
   ],
   "metadata": {
    "collapsed": false,
    "pycharm": {
     "name": "#%%\n"
    }
   }
  },
  {
   "cell_type": "code",
   "execution_count": 16,
   "outputs": [
    {
     "name": "stdout",
     "output_type": "stream",
     "text": [
      "Inferencing time: 0.18391307592391967 minutes\n"
     ]
    }
   ],
   "source": [
    "print(f'Inferencing time: {(stop-start)/60} minutes')"
   ],
   "metadata": {
    "collapsed": false,
    "pycharm": {
     "name": "#%%\n"
    }
   }
  },
  {
   "cell_type": "code",
   "execution_count": null,
   "outputs": [],
   "source": [],
   "metadata": {
    "collapsed": false,
    "pycharm": {
     "name": "#%%\n"
    }
   }
  }
 ],
 "metadata": {
  "kernelspec": {
   "display_name": "Python 3",
   "language": "python",
   "name": "python3"
  },
  "language_info": {
   "codemirror_mode": {
    "name": "ipython",
    "version": 2
   },
   "file_extension": ".py",
   "mimetype": "text/x-python",
   "name": "python",
   "nbconvert_exporter": "python",
   "pygments_lexer": "ipython2",
   "version": "2.7.6"
  }
 },
 "nbformat": 4,
 "nbformat_minor": 0
}