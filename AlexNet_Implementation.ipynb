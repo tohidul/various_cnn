{
 "cells": [
  {
   "cell_type": "markdown",
   "source": [
    "Importing Necessary Libraries"
   ],
   "metadata": {
    "collapsed": false
   }
  },
  {
   "cell_type": "code",
   "execution_count": 3,
   "metadata": {
    "collapsed": true
   },
   "outputs": [],
   "source": [
    "import os\n",
    "import zipfile\n",
    "import matplotlib.pyplot as plt\n",
    "import tensorflow as tf\n",
    "from tensorflow.keras import layers\n",
    "from tensorflow.keras import Model\n",
    "from tensorflow.keras.optimizers import RMSprop\n",
    "from tensorflow.keras.optimizers import Adam\n",
    "from tensorflow.keras.optimizers import SGD\n",
    "from tensorflow.keras.preprocessing.image import ImageDataGenerator\n",
    "import random\n",
    "from PIL import Image\n",
    "import numpy as np\n",
    "import os\n",
    "from tensorflow.keras.preprocessing.image import img_to_array, load_img\n",
    "from datetime import datetime\n",
    "from keras.optimizers import SGD"
   ]
  },
  {
   "cell_type": "code",
   "execution_count": 20,
   "outputs": [],
   "source": [
    "def create_data_directory(datasetName, classnames = []):\n",
    "  for classname in classnames:\n",
    "    trainDir = os.path.join('data',datasetName,'train',classname)\n",
    "    testDir = os.path.join('data',datasetName,'test',classname)\n",
    "\n",
    "    if not os.path.exists(trainDir):\n",
    "      os.makedirs(trainDir)\n",
    "\n",
    "    if not os.path.exists(testDir):\n",
    "      os.makedirs(testDir)"
   ],
   "metadata": {
    "collapsed": false,
    "pycharm": {
     "name": "#%%\n"
    }
   }
  },
  {
   "cell_type": "code",
   "execution_count": 21,
   "outputs": [],
   "source": [
    "def saveNumpyImage(imageArray, label, image_name_suffix, dataSetName, trainOrTest):\n",
    "  if trainOrTest not in [\"train\", \"test\"]:\n",
    "    print(\"The parameter trainOrTest value should be either 'train' or 'test'\")\n",
    "    return False\n",
    "\n",
    "  imageDirectory = os.path.join('data',dataSetName,trainOrTest,label)\n",
    "\n",
    "  if not os.path.exists(imageDirectory):\n",
    "    print(\"The image directory does not exists.{}\".format(imageDirectory))\n",
    "    return False\n",
    "\n",
    "  im = Image.fromarray(imageArray)\n",
    "  im.save(os.path.join(imageDirectory,label+\"_\"+image_name_suffix+\".jpeg\"))\n",
    "\n",
    "  return True"
   ],
   "metadata": {
    "collapsed": false,
    "pycharm": {
     "name": "#%%\n"
    }
   }
  },
  {
   "cell_type": "markdown",
   "source": [
    "Loading the MNIST Dataset. The dataset has 10 classes. The dataset contains images of 10 digits from 0 to 9."
   ],
   "metadata": {
    "collapsed": false
   }
  },
  {
   "cell_type": "code",
   "execution_count": 4,
   "outputs": [],
   "source": [
    "(x_train, y_train), (x_test, y_test) = tf.keras.datasets.mnist.load_data()"
   ],
   "metadata": {
    "collapsed": false,
    "pycharm": {
     "name": "#%%\n"
    }
   }
  },
  {
   "cell_type": "code",
   "execution_count": 40,
   "outputs": [],
   "source": [
    "create_data_directory(\"MNIST\",[\"0\",\"1\",\"2\",\"3\",\"4\",\"5\",\"6\",\"7\",\"8\",\"9\"])"
   ],
   "metadata": {
    "collapsed": false,
    "pycharm": {
     "name": "#%%\n"
    }
   }
  },
  {
   "cell_type": "code",
   "execution_count": 42,
   "outputs": [],
   "source": [
    "for i,image in enumerate(x_train):\n",
    "  saveNumpyImage(image,str(y_train[i]),str(i),\"MNIST\", \"train\")"
   ],
   "metadata": {
    "collapsed": false,
    "pycharm": {
     "name": "#%%\n"
    }
   }
  },
  {
   "cell_type": "code",
   "execution_count": 43,
   "outputs": [],
   "source": [
    "for i,image in enumerate(x_test):\n",
    "  saveNumpyImage(image,str(y_test[i]),str(i),\"MNIST\", \"test\")"
   ],
   "metadata": {
    "collapsed": false,
    "pycharm": {
     "name": "#%%\n"
    }
   }
  },
  {
   "cell_type": "code",
   "execution_count": 4,
   "outputs": [],
   "source": [
    "def train_val_generators(TRAINING_DIR, VALIDATION_DIR):\n",
    "  train_datagen = ImageDataGenerator(rescale=1./255,\n",
    "                                     rotation_range=40,\n",
    "                                     width_shift_range=0.2,\n",
    "                                     height_shift_range=0.2,\n",
    "                                     shear_range=0.2,\n",
    "                                     zoom_range=0.2,\n",
    "                                     horizontal_flip=True,\n",
    "                                     fill_mode='nearest')\n",
    "\n",
    "  train_generator = train_datagen.flow_from_directory(directory=TRAINING_DIR,\n",
    "                                                      batch_size=32,\n",
    "                                                      class_mode='categorical',\n",
    "                                                      target_size=(227, 227))\n",
    "\n",
    "  validation_datagen = ImageDataGenerator(rescale=1./255)\n",
    "\n",
    "  validation_generator = validation_datagen.flow_from_directory(directory=VALIDATION_DIR,\n",
    "                                                                batch_size=32,\n",
    "                                                                class_mode='categorical',\n",
    "                                                                target_size=(227, 227))\n",
    "\n",
    "  return train_generator, validation_generator"
   ],
   "metadata": {
    "collapsed": false,
    "pycharm": {
     "name": "#%%\n"
    }
   }
  },
  {
   "cell_type": "code",
   "execution_count": 5,
   "outputs": [],
   "source": [
    "train_dir = os.path.join(\"data\",\"MNIST\",\"train\")\n",
    "validation_dir = os.path.join(\"data\",\"MNISt\",\"test\")"
   ],
   "metadata": {
    "collapsed": false,
    "pycharm": {
     "name": "#%%\n"
    }
   }
  },
  {
   "cell_type": "code",
   "execution_count": 6,
   "outputs": [
    {
     "name": "stdout",
     "output_type": "stream",
     "text": [
      "Found 60000 images belonging to 10 classes.\n",
      "Found 10000 images belonging to 10 classes.\n"
     ]
    }
   ],
   "source": [
    "train_generator, validation_generator = train_val_generators(train_dir, validation_dir)"
   ],
   "metadata": {
    "collapsed": false,
    "pycharm": {
     "name": "#%%\n"
    }
   }
  },
  {
   "cell_type": "code",
   "execution_count": 25,
   "outputs": [],
   "source": [
    "def create_model():\n",
    "  model = tf.keras.models.Sequential([\n",
    "      tf.keras.layers.Conv2D(96, (11,11), strides=4, activation='relu', kernel_initializer= 'he_normal', padding= 'valid',input_shape=(227,227,1)),\n",
    "      tf.keras.layers.MaxPool2D(pool_size=(3,3), strides= (2,2), padding= 'valid', data_format= None ),\n",
    "\n",
    "      tf.keras.layers.Conv2D(256, (5,5), strides=1, activation='relu', kernel_initializer= 'he_normal', padding= 'same'),\n",
    "      tf.keras.layers.MaxPool2D(pool_size=(3,3), strides=(2,2), padding= 'valid', data_format= None ),\n",
    "\n",
    "      tf.keras.layers.Conv2D(384, (3,3), strides=1, activation='relu', kernel_initializer= 'he_normal', padding='same'),\n",
    "      tf.keras.layers.Conv2D(384, (3,3), strides=1, activation='relu', kernel_initializer= 'he_normal', padding='same'),\n",
    "      tf.keras.layers.Conv2D(256, (3,3), strides=1, activation='relu', kernel_initializer= 'he_normal', padding='same'),\n",
    "      tf.keras.layers.MaxPool2D(pool_size=(3,3), strides=(2,2), padding= 'valid', data_format= None ),\n",
    "\n",
    "      tf.keras.layers.Flatten(),\n",
    "      tf.keras.layers.Dense(4096, activation='relu'),\n",
    "      tf.keras.layers.Dense(4096, activation='relu'),\n",
    "      tf.keras.layers.Dense(1000, activation='relu'),\n",
    "      tf.keras.layers.Dense(10, activation='softmax')\n",
    "  ])\n",
    "\n",
    "\n",
    "  model.compile(optimizer=SGD(learning_rate=0.001),\n",
    "                loss='categorical_crossentropy',\n",
    "                metrics=['accuracy', 'AUC', 'FalseNegatives', 'FalsePositives', 'Precision', 'Recall', 'TrueNegatives','TruePositives'])\n",
    "\n",
    "  return model"
   ],
   "metadata": {
    "collapsed": false,
    "pycharm": {
     "name": "#%%\n"
    }
   }
  },
  {
   "cell_type": "code",
   "execution_count": 26,
   "outputs": [
    {
     "name": "stdout",
     "output_type": "stream",
     "text": [
      "Epoch 1/15\n",
      "1875/1875 [==============================] - 923s 491ms/step - loss: 1.2658 - accuracy: 0.5698 - auc: 0.9065 - false_negatives: 37242.0000 - false_positives: 5279.0000 - precision: 0.8117 - recall: 0.3793 - true_negatives: 534721.0000 - true_positives: 22758.0000 - val_loss: 0.4404 - val_accuracy: 0.8562 - val_auc: 0.9898 - val_false_negatives: 1997.0000 - val_false_positives: 762.0000 - val_precision: 0.9131 - val_recall: 0.8003 - val_true_negatives: 89238.0000 - val_true_positives: 8003.0000\n",
      "Epoch 2/15\n",
      "1875/1875 [==============================] - 788s 420ms/step - loss: 0.6393 - accuracy: 0.7905 - auc: 0.9757 - false_negatives: 16875.0000 - false_positives: 6750.0000 - precision: 0.8647 - recall: 0.7188 - true_negatives: 533250.0000 - true_positives: 43125.0000 - val_loss: 0.2742 - val_accuracy: 0.9143 - val_auc: 0.9954 - val_false_negatives: 1124.0000 - val_false_positives: 524.0000 - val_precision: 0.9443 - val_recall: 0.8876 - val_true_negatives: 89476.0000 - val_true_positives: 8876.0000\n",
      "Epoch 3/15\n",
      "1875/1875 [==============================] - 656s 350ms/step - loss: 0.4526 - accuracy: 0.8533 - auc: 0.9868 - false_negatives: 11253.0000 - false_positives: 5600.0000 - precision: 0.8970 - recall: 0.8124 - true_negatives: 534400.0000 - true_positives: 48747.0000 - val_loss: 0.1974 - val_accuracy: 0.9366 - val_auc: 0.9975 - val_false_negatives: 771.0000 - val_false_positives: 432.0000 - val_precision: 0.9553 - val_recall: 0.9229 - val_true_negatives: 89568.0000 - val_true_positives: 9229.0000\n",
      "Epoch 4/15\n",
      "1875/1875 [==============================] - 641s 342ms/step - loss: 0.3708 - accuracy: 0.8802 - auc: 0.9905 - false_negatives: 8971.0000 - false_positives: 4831.0000 - precision: 0.9135 - recall: 0.8505 - true_negatives: 535169.0000 - true_positives: 51029.0000 - val_loss: 0.1382 - val_accuracy: 0.9555 - val_auc: 0.9984 - val_false_negatives: 528.0000 - val_false_positives: 343.0000 - val_precision: 0.9651 - val_recall: 0.9472 - val_true_negatives: 89657.0000 - val_true_positives: 9472.0000\n",
      "Epoch 5/15\n",
      "1875/1875 [==============================] - 640s 341ms/step - loss: 0.3161 - accuracy: 0.8993 - auc: 0.9926 - false_negatives: 7440.0000 - false_positives: 4200.0000 - precision: 0.9260 - recall: 0.8760 - true_negatives: 535800.0000 - true_positives: 52560.0000 - val_loss: 0.1410 - val_accuracy: 0.9538 - val_auc: 0.9982 - val_false_negatives: 542.0000 - val_false_positives: 360.0000 - val_precision: 0.9633 - val_recall: 0.9458 - val_true_negatives: 89640.0000 - val_true_positives: 9458.0000\n",
      "Epoch 6/15\n",
      "1875/1875 [==============================] - 644s 344ms/step - loss: 0.2776 - accuracy: 0.9112 - auc: 0.9941 - false_negatives: 6456.0000 - false_positives: 3810.0000 - precision: 0.9336 - recall: 0.8924 - true_negatives: 536190.0000 - true_positives: 53544.0000 - val_loss: 0.0993 - val_accuracy: 0.9688 - val_auc: 0.9989 - val_false_negatives: 361.0000 - val_false_positives: 235.0000 - val_precision: 0.9762 - val_recall: 0.9639 - val_true_negatives: 89765.0000 - val_true_positives: 9639.0000\n",
      "Epoch 7/15\n",
      "1875/1875 [==============================] - 644s 344ms/step - loss: 0.2435 - accuracy: 0.9233 - auc: 0.9951 - false_negatives: 5545.0000 - false_positives: 3368.0000 - precision: 0.9418 - recall: 0.9076 - true_negatives: 536632.0000 - true_positives: 54455.0000 - val_loss: 0.1452 - val_accuracy: 0.9544 - val_auc: 0.9978 - val_false_negatives: 518.0000 - val_false_positives: 374.0000 - val_precision: 0.9621 - val_recall: 0.9482 - val_true_negatives: 89626.0000 - val_true_positives: 9482.0000\n",
      "Epoch 8/15\n",
      "1875/1875 [==============================] - 648s 345ms/step - loss: 0.2272 - accuracy: 0.9279 - auc: 0.9956 - false_negatives: 5216.0000 - false_positives: 3225.0000 - precision: 0.9444 - recall: 0.9131 - true_negatives: 536775.0000 - true_positives: 54784.0000 - val_loss: 0.1023 - val_accuracy: 0.9663 - val_auc: 0.9989 - val_false_negatives: 390.0000 - val_false_positives: 257.0000 - val_precision: 0.9740 - val_recall: 0.9610 - val_true_negatives: 89743.0000 - val_true_positives: 9610.0000\n",
      "Epoch 9/15\n",
      "1875/1875 [==============================] - 639s 341ms/step - loss: 0.2097 - accuracy: 0.9347 - auc: 0.9960 - false_negatives: 4688.0000 - false_positives: 2937.0000 - precision: 0.9496 - recall: 0.9219 - true_negatives: 537063.0000 - true_positives: 55312.0000 - val_loss: 0.0757 - val_accuracy: 0.9756 - val_auc: 0.9994 - val_false_negatives: 287.0000 - val_false_positives: 190.0000 - val_precision: 0.9808 - val_recall: 0.9713 - val_true_negatives: 89810.0000 - val_true_positives: 9713.0000\n",
      "Epoch 10/15\n",
      "1875/1875 [==============================] - 633s 338ms/step - loss: 0.1948 - accuracy: 0.9381 - auc: 0.9965 - false_negatives: 4390.0000 - false_positives: 2854.0000 - precision: 0.9512 - recall: 0.9268 - true_negatives: 537146.0000 - true_positives: 55610.0000 - val_loss: 0.0857 - val_accuracy: 0.9748 - val_auc: 0.9992 - val_false_negatives: 317.0000 - val_false_positives: 201.0000 - val_precision: 0.9797 - val_recall: 0.9683 - val_true_negatives: 89799.0000 - val_true_positives: 9683.0000\n",
      "Epoch 11/15\n",
      "1875/1875 [==============================] - 638s 340ms/step - loss: 0.1825 - accuracy: 0.9424 - auc: 0.9969 - false_negatives: 4127.0000 - false_positives: 2620.0000 - precision: 0.9552 - recall: 0.9312 - true_negatives: 537380.0000 - true_positives: 55873.0000 - val_loss: 0.0683 - val_accuracy: 0.9786 - val_auc: 0.9993 - val_false_negatives: 258.0000 - val_false_positives: 186.0000 - val_precision: 0.9813 - val_recall: 0.9742 - val_true_negatives: 89814.0000 - val_true_positives: 9742.0000\n",
      "Epoch 12/15\n",
      "1875/1875 [==============================] - 665s 355ms/step - loss: 0.1719 - accuracy: 0.9458 - auc: 0.9970 - false_negatives: 3823.0000 - false_positives: 2552.0000 - precision: 0.9565 - recall: 0.9363 - true_negatives: 537448.0000 - true_positives: 56177.0000 - val_loss: 0.0664 - val_accuracy: 0.9792 - val_auc: 0.9994 - val_false_negatives: 249.0000 - val_false_positives: 173.0000 - val_precision: 0.9826 - val_recall: 0.9751 - val_true_negatives: 89827.0000 - val_true_positives: 9751.0000\n",
      "Epoch 13/15\n",
      "1875/1875 [==============================] - 705s 376ms/step - loss: 0.1643 - accuracy: 0.9476 - auc: 0.9973 - false_negatives: 3697.0000 - false_positives: 2451.0000 - precision: 0.9583 - recall: 0.9384 - true_negatives: 537549.0000 - true_positives: 56303.0000 - val_loss: 0.0670 - val_accuracy: 0.9791 - val_auc: 0.9992 - val_false_negatives: 237.0000 - val_false_positives: 182.0000 - val_precision: 0.9817 - val_recall: 0.9763 - val_true_negatives: 89818.0000 - val_true_positives: 9763.0000\n",
      "Epoch 14/15\n",
      "1875/1875 [==============================] - 755s 402ms/step - loss: 0.1567 - accuracy: 0.9500 - auc: 0.9975 - false_negatives: 3515.0000 - false_positives: 2343.0000 - precision: 0.9602 - recall: 0.9414 - true_negatives: 537657.0000 - true_positives: 56485.0000 - val_loss: 0.0771 - val_accuracy: 0.9751 - val_auc: 0.9991 - val_false_negatives: 275.0000 - val_false_positives: 212.0000 - val_precision: 0.9787 - val_recall: 0.9725 - val_true_negatives: 89788.0000 - val_true_positives: 9725.0000\n",
      "Epoch 15/15\n",
      "1875/1875 [==============================] - 756s 403ms/step - loss: 0.1521 - accuracy: 0.9522 - auc: 0.9975 - false_negatives: 3335.0000 - false_positives: 2291.0000 - precision: 0.9611 - recall: 0.9444 - true_negatives: 537709.0000 - true_positives: 56665.0000 - val_loss: 0.0644 - val_accuracy: 0.9778 - val_auc: 0.9995 - val_false_negatives: 254.0000 - val_false_positives: 192.0000 - val_precision: 0.9807 - val_recall: 0.9746 - val_true_negatives: 89808.0000 - val_true_positives: 9746.0000\n"
     ]
    }
   ],
   "source": [
    "model = create_model()\n",
    "\n",
    "history = model.fit(train_generator,\n",
    "                    epochs=15,\n",
    "                    verbose=1,\n",
    "                    validation_data=validation_generator)"
   ],
   "metadata": {
    "collapsed": false,
    "pycharm": {
     "name": "#%%\n"
    }
   }
  },
  {
   "cell_type": "code",
   "execution_count": 34,
   "outputs": [
    {
     "name": "stdout",
     "output_type": "stream",
     "text": [
      "Num GPUs Available:  0\n"
     ]
    }
   ],
   "source": [
    "import tensorflow as tf\n",
    "print(\"Num GPUs Available: \", len(tf.config.list_physical_devices('GPU')))"
   ],
   "metadata": {
    "collapsed": false,
    "pycharm": {
     "name": "#%%\n"
    }
   }
  },
  {
   "cell_type": "code",
   "execution_count": 23,
   "outputs": [
    {
     "ename": "NameError",
     "evalue": "name 'PhysicalDevice' is not defined",
     "output_type": "error",
     "traceback": [
      "\u001B[1;31m---------------------------------------------------------------------------\u001B[0m",
      "\u001B[1;31mNameError\u001B[0m                                 Traceback (most recent call last)",
      "Cell \u001B[1;32mIn [23], line 1\u001B[0m\n\u001B[1;32m----> 1\u001B[0m [\u001B[43mPhysicalDevice\u001B[49m(name\u001B[38;5;241m=\u001B[39m\u001B[38;5;124m'\u001B[39m\u001B[38;5;124m/physical_device:GPU:0\u001B[39m\u001B[38;5;124m'\u001B[39m, device_type\u001B[38;5;241m=\u001B[39m\u001B[38;5;124m'\u001B[39m\u001B[38;5;124mGPU\u001B[39m\u001B[38;5;124m'\u001B[39m)]\n",
      "\u001B[1;31mNameError\u001B[0m: name 'PhysicalDevice' is not defined"
     ]
    }
   ],
   "source": [
    "[PhysicalDevice(name='/physical_device:GPU:0', device_type='GPU')]"
   ],
   "metadata": {
    "collapsed": false,
    "pycharm": {
     "name": "#%%\n"
    }
   }
  },
  {
   "cell_type": "code",
   "execution_count": null,
   "outputs": [],
   "source": [],
   "metadata": {
    "collapsed": false,
    "pycharm": {
     "name": "#%%\n"
    }
   }
  },
  {
   "cell_type": "code",
   "execution_count": 27,
   "outputs": [],
   "source": [
    "model.save(\"mnist_alexnet.h5\")"
   ],
   "metadata": {
    "collapsed": false,
    "pycharm": {
     "name": "#%%\n"
    }
   }
  },
  {
   "cell_type": "code",
   "execution_count": 7,
   "outputs": [
    {
     "name": "stdout",
     "output_type": "stream",
     "text": [
      "313/313 [==============================] - 37s 73ms/step - loss: 0.0644 - accuracy: 0.9778 - auc: 0.9995 - false_negatives: 254.0000 - false_positives: 192.0000 - precision: 0.9807 - recall: 0.9746 - true_negatives: 89808.0000 - true_positives: 9746.0000\n",
      "Inferencing time: 0.6299274643262227 minutes\n"
     ]
    }
   ],
   "source": [
    "import time\n",
    "loaded_model = tf.keras.models.load_model(\"mnist_alexnet.h5\")\n",
    "start = time.time()\n",
    "loaded_model.evaluate(validation_generator, verbose=1)\n",
    "stop = time.time()\n",
    "print(f'Inferencing time: {(stop-start)/60} minutes')"
   ],
   "metadata": {
    "collapsed": false,
    "pycharm": {
     "name": "#%%\n"
    }
   }
  },
  {
   "cell_type": "code",
   "execution_count": null,
   "outputs": [],
   "source": [],
   "metadata": {
    "collapsed": false,
    "pycharm": {
     "name": "#%%\n"
    }
   }
  }
 ],
 "metadata": {
  "kernelspec": {
   "display_name": "Python 3",
   "language": "python",
   "name": "python3"
  },
  "language_info": {
   "codemirror_mode": {
    "name": "ipython",
    "version": 2
   },
   "file_extension": ".py",
   "mimetype": "text/x-python",
   "name": "python",
   "nbconvert_exporter": "python",
   "pygments_lexer": "ipython2",
   "version": "2.7.6"
  }
 },
 "nbformat": 4,
 "nbformat_minor": 0
}